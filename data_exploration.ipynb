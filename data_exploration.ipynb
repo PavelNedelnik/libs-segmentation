{
 "cells": [
  {
   "cell_type": "code",
   "execution_count": null,
   "metadata": {},
   "outputs": [],
   "source": [
    "import h5py\n",
    "import dask\n",
    "import dask.array as da\n",
    "import numpy as np\n",
    "import plotly.express as px\n",
    "import cv2\n",
    "import matplotlib.pyplot as plt\n",
    "from pathlib import Path\n",
    "from tqdm import tqdm\n",
    "from PIL import Image\n",
    "from src.load_scripts import load_h5_dataset\n",
    "from src.visualization import plot_spectra\n",
    "\n",
    "path = Path('data/Marsikov')"
   ]
  },
  {
   "cell_type": "code",
   "execution_count": null,
   "metadata": {},
   "outputs": [],
   "source": [
    "dask.config.set({\"array.slicing.split_large_chunks\": False})\n",
    "Image.MAX_IMAGE_PIXELS = None"
   ]
  },
  {
   "cell_type": "code",
   "execution_count": null,
   "metadata": {},
   "outputs": [],
   "source": [
    "legend = {\n",
    "    'albite':      ( 71, 213, 213),\n",
    "    'quartz':      ( 85,   0, 255),\n",
    "    'muscovite':   (251, 119, 255),\n",
    "    'spessartine': (190,  95,  41),\n",
    "    'orthoclase':  (255,  32, 103),\n",
    "    'biotite':     (255, 170,   0)\n",
    "}"
   ]
  },
  {
   "cell_type": "code",
   "execution_count": null,
   "metadata": {},
   "outputs": [],
   "source": [
    "def load_h5_dataset(dataset_path: Path):\n",
    "    for file_path in dataset_path.glob('**/*.h5'):\n",
    "        try:\n",
    "            f = h5py.File(file_path, \"r\")\n",
    "            f = f[list(f.keys())[0]]\n",
    "            f = f[list(f.keys())[0]]\n",
    "            f = f['libs']\n",
    "            print('    Loading dimensions...', end='', flush=True)\n",
    "            dim = [max(f['metadata']['X']) + 1, max(f['metadata']['Y']) + 1]\n",
    "            print(' Done!', flush=True)\n",
    "\n",
    "            print('    Loading spectra...', end='', flush=True)\n",
    "            X = da.from_array(f['data'])\n",
    "            print(' Done!', flush=True)\n",
    "\n",
    "            print('    Loading wavelengths...', end='', flush=True)\n",
    "            wavelengths = da.from_array(f['calibration'])\n",
    "            print(' Done!', flush=True)\n",
    "\n",
    "            print('    Reshaping spectra...', end='', flush=True)\n",
    "            X = da.reshape(X, dim + [-1])\n",
    "            X[::2, :] = X[::2, ::-1]\n",
    "            print(' Done!', flush=True)\n",
    "\n",
    "        except Exception as e:\n",
    "            print('\\n[WARNING] Failed to load file {} with error message: {}. Skipping!'.format(file_path, e), flush=True)\n",
    "            continue\n",
    "\n",
    "        print('    Loading true labels...', end='', flush=True)\n",
    "        img = np.asarray(Image.open(dataset_path / 'y_true.png'))\n",
    "        flat = img.reshape(-1, img.shape[2])\n",
    "        y = np.zeros(flat.shape[0])\n",
    "        for i, val in tqdm(enumerate(legend.values(), start=1)):\n",
    "            y[(flat == val).all(axis=1)] = i\n",
    "        y = y.reshape(img.shape[:-1])\n",
    "        print(' Done!', flush=True)\n",
    "\n",
    "        return X, y, wavelengths, dim\n",
    "    raise RuntimeError('Failed to load! No valid file found!')"
   ]
  },
  {
   "cell_type": "code",
   "execution_count": null,
   "metadata": {},
   "outputs": [],
   "source": [
    "X, y, wavelengths, dim = load_h5_dataset(path)"
   ]
  },
  {
   "cell_type": "code",
   "execution_count": null,
   "metadata": {},
   "outputs": [],
   "source": [
    "intensities = X.sum(axis=2).compute()"
   ]
  },
  {
   "cell_type": "code",
   "execution_count": null,
   "metadata": {},
   "outputs": [],
   "source": [
    "from skimage.measure import block_reduce\n",
    "\n",
    "down = block_reduce(y, (15, 15), np.max)"
   ]
  },
  {
   "cell_type": "code",
   "execution_count": null,
   "metadata": {},
   "outputs": [],
   "source": [
    "labels = np.array((down - down.min()) / down.max() * 256 , dtype='uint8')\n",
    "libs = np.array((intensities - intensities.min()) / intensities.max() * 256, dtype='uint8')"
   ]
  },
  {
   "cell_type": "code",
   "execution_count": null,
   "metadata": {},
   "outputs": [],
   "source": [
    "methods = [\n",
    "    'cv2.TM_CCOEFF', 'cv2.TM_CCOEFF_NORMED', 'cv2.TM_CCORR',\n",
    "    'cv2.TM_CCORR_NORMED', #'cv2.TM_SQDIFF', #'cv2.TM_SQDIFF_NORMED'\n",
    "]\n",
    "\n",
    "image = labels\n",
    "template = libs[:, :980]\n",
    "\n",
    "libs_subsets = []\n",
    "w, h = template.shape[::-1]\n",
    "for meth in methods:\n",
    "    img = image.copy()\n",
    "    method = eval(meth)\n",
    "    # Apply template Matching\n",
    "    res = cv2.matchTemplate(img,template,method)\n",
    "    min_val, max_val, min_loc, max_loc = cv2.minMaxLoc(res)\n",
    "    # If the method is TM_SQDIFF or TM_SQDIFF_NORMED, take minimum\n",
    "    if method in [cv2.TM_SQDIFF, cv2.TM_SQDIFF_NORMED]:\n",
    "        top_left = min_loc\n",
    "    else:\n",
    "        top_left = max_loc\n",
    "        bottom_right = (top_left[0] + w, top_left[1] + h)\n",
    "\n",
    "    libs_subsets.append(\n",
    "        [top_left[1],bottom_right[1],top_left[0],bottom_right[0]]\n",
    "    )\n",
    "    \n",
    "    cv2.rectangle(img,top_left, bottom_right, 255, 2)\n",
    "    plt.subplot(121),plt.imshow(res,cmap=None)\n",
    "    plt.title('Matching Result'), plt.xticks([]), plt.yticks([])\n",
    "    plt.subplot(122),plt.imshow(img,cmap=None)\n",
    "    plt.title('Detected Point'), plt.xticks([]), plt.yticks([])\n",
    "    plt.suptitle(meth)\n",
    "    plt.show()"
   ]
  },
  {
   "cell_type": "code",
   "execution_count": null,
   "metadata": {},
   "outputs": [],
   "source": [
    "labels_cropped = labels[libs_subsets[2][0]:libs_subsets[2][1],libs_subsets[2][2]:libs_subsets[2][3]]\n",
    "libs_cropped = libs[:, :980]\n",
    "\n",
    "sz = libs_cropped.shape\n",
    " \n",
    "# Define the motion model\n",
    "warp_mode = cv2.MOTION_AFFINE\n",
    " \n",
    "# Define 2x3 or 3x3 matrices and initialize the matrix to identity\n",
    "if warp_mode == cv2.MOTION_HOMOGRAPHY :\n",
    "    warp_matrix = np.eye(3, 3, dtype=np.float32)\n",
    "else:\n",
    "    warp_matrix = np.eye(2, 3, dtype=np.float32)\n",
    " \n",
    "# Specify the number of iterations.\n",
    "number_of_iterations = 5000\n",
    " \n",
    "# Specify the threshold of the increment\n",
    "# in the correlation coefficient between two iterations\n",
    "termination_eps = 1e-10\n",
    " \n",
    "# Define termination criteria\n",
    "criteria = (cv2.TERM_CRITERIA_EPS | cv2.TERM_CRITERIA_COUNT, number_of_iterations,  termination_eps)\n",
    " \n",
    "# Run the ECC algorithm. The results are stored in warp_matrix.\n",
    "(cc, warp_matrix) = cv2.findTransformECC (libs_cropped,labels_cropped,warp_matrix, warp_mode, criteria)\n",
    " \n",
    "if warp_mode == cv2.MOTION_HOMOGRAPHY:\n",
    "# Use warpPerspective for Homography\n",
    "    libs_image_aligned = cv2.warpPerspective(\n",
    "        labels_cropped, \n",
    "        warp_matrix, \n",
    "        (sz[1],sz[0]), \n",
    "        flags=cv2.INTER_LINEAR + cv2.WARP_INVERSE_MAP\n",
    "    )\n",
    "else :\n",
    "# Use warpAffine for Translation, Euclidean and Affine\n",
    "    libs_image_aligned = cv2.warpAffine(\n",
    "        labels_cropped, \n",
    "        warp_matrix, \n",
    "        (sz[1],sz[0]), \n",
    "        flags=cv2.INTER_LINEAR + cv2.WARP_INVERSE_MAP\n",
    "    )\n",
    " \n",
    "# Show final results\n",
    "fig,ax = plt.subplots(ncols=3)\n",
    "ax[0].imshow(libs_cropped)\n",
    "ax[1].imshow(labels_cropped)\n",
    "ax[2].imshow(libs_image_aligned)\n",
    "\n",
    "print(np.corrcoef(\n",
    "    libs_cropped.reshape(-1),\n",
    "    labels_cropped.reshape(-1)\n",
    ")[0,1])\n",
    "print(np.corrcoef(\n",
    "    libs_cropped.reshape(-1),\n",
    "    libs_image_aligned.reshape(-1)\n",
    ")[0,1])"
   ]
  },
  {
   "cell_type": "code",
   "execution_count": null,
   "metadata": {},
   "outputs": [],
   "source": [
    "plt.imshow(libs_cropped)"
   ]
  },
  {
   "cell_type": "code",
   "execution_count": null,
   "metadata": {},
   "outputs": [],
   "source": [
    "plt.imshow(libs_image_aligned)"
   ]
  }
 ],
 "metadata": {
  "kernelspec": {
   "display_name": ".venv",
   "language": "python",
   "name": "python3"
  },
  "language_info": {
   "codemirror_mode": {
    "name": "ipython",
    "version": 3
   },
   "file_extension": ".py",
   "mimetype": "text/x-python",
   "name": "python",
   "nbconvert_exporter": "python",
   "pygments_lexer": "ipython3",
   "version": "3.10.11"
  },
  "orig_nbformat": 4
 },
 "nbformat": 4,
 "nbformat_minor": 2
}
