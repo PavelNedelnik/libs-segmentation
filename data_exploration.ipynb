{
 "cells": [
  {
   "cell_type": "code",
   "execution_count": null,
   "metadata": {},
   "outputs": [],
   "source": [
    "import h5py\n",
    "import dask\n",
    "import dask.array as da\n",
    "import numpy as np\n",
    "import plotly.express as px\n",
    "from pathlib import Path\n",
    "from tqdm import tqdm\n",
    "from PIL import Image\n",
    "from src.load_scripts import load_h5_dataset\n",
    "from src.visualization import plot_spectra\n",
    "\n",
    "path = Path('data/Marsikov')"
   ]
  },
  {
   "cell_type": "code",
   "execution_count": null,
   "metadata": {},
   "outputs": [],
   "source": [
    "dask.config.set({\"array.slicing.split_large_chunks\": False})\n",
    "Image.MAX_IMAGE_PIXELS = None"
   ]
  },
  {
   "cell_type": "code",
   "execution_count": null,
   "metadata": {},
   "outputs": [],
   "source": [
    "legend = {\n",
    "    'albite': (71, 213, 213),\n",
    "    'quartz': (85, 0, 255),\n",
    "    'muscovite': (251, 119, 255),\n",
    "    'spessartine': (190, 95, 41),\n",
    "    'orthoclase': (255,  32, 103),\n",
    "    'biotite': (255, 170,   0)\n",
    "}"
   ]
  },
  {
   "cell_type": "code",
   "execution_count": null,
   "metadata": {},
   "outputs": [],
   "source": [
    "def load_h5_dataset(dataset_path: Path):\n",
    "    for file_path in dataset_path.glob('**/*.h5'):\n",
    "        try:\n",
    "            f = h5py.File(file_path, \"r\")\n",
    "            f = f[list(f.keys())[0]]\n",
    "            f = f[list(f.keys())[0]]\n",
    "            f = f['libs']\n",
    "            print('    Loading dimensions...', end='', flush=True)\n",
    "            dim = [max(f['metadata']['X']) + 1, max(f['metadata']['Y']) + 1]\n",
    "            print(' Done!', flush=True)\n",
    "\n",
    "            print('    Loading spectra...', end='', flush=True)\n",
    "            X = da.from_array(f['data'])\n",
    "            print(' Done!', flush=True)\n",
    "\n",
    "            print('    Loading wavelengths...', end='', flush=True)\n",
    "            wavelengths = da.from_array(f['calibration'])\n",
    "            print(' Done!', flush=True)\n",
    "\n",
    "            print('    Reshaping spectra...', end='', flush=True)\n",
    "            X = da.reshape(X, dim + [-1])\n",
    "            X[::2, :] = X[::2, ::-1]\n",
    "            print(' Done!', flush=True)\n",
    "\n",
    "        except Exception as e:\n",
    "            print('\\n[WARNING] Failed to load file {} with error message: {}. Skipping!'.format(file_path, e), flush=True)\n",
    "            continue\n",
    "\n",
    "        print('    Loading true labels...', end='', flush=True)\n",
    "        img = np.asarray(Image.open(dataset_path / 'y_true.png'))\n",
    "        flat = img.reshape(-1, img.shape[2])\n",
    "        y = np.zeros(flat.shape) - 1\n",
    "        for i, val in tqdm(enumerate(legend.values())):\n",
    "            y[flat == val] = i\n",
    "        y = y.max(axis=1).reshape(img.shape[:-1]) / (len(legend.keys()) + 1)\n",
    "        print(' Done!', flush=True)\n",
    "\n",
    "        return X, y, wavelengths, dim\n",
    "    raise RuntimeError('Failed to load! No valid file found!')"
   ]
  },
  {
   "cell_type": "code",
   "execution_count": null,
   "metadata": {},
   "outputs": [],
   "source": [
    "X, y, wavelengths, dim = load_h5_dataset(path)"
   ]
  },
  {
   "cell_type": "code",
   "execution_count": null,
   "metadata": {},
   "outputs": [],
   "source": [
    "\"\"\"\n",
    "vals = np.unique(arr.reshape(-1, arr.shape[2]), axis=0, return_counts=True)\n",
    "\n",
    "unique, counts = vals\n",
    "pairs = list(zip(unique, counts))\n",
    "pairs.sort(key=lambda pair: pair[1], reverse=True)\n",
    "pairs[:8]\n",
    "\"\"\""
   ]
  },
  {
   "cell_type": "code",
   "execution_count": null,
   "metadata": {},
   "outputs": [],
   "source": [
    "flat = arr.reshape(-1, arr.shape[2])\n",
    "labels = np.zeros(flat.shape) - 1\n",
    "for i, val in tqdm(enumerate(legend.values())):\n",
    "    labels[flat == val] = i\n",
    "labels = labels.max(axis=1).reshape(arr.shape[:-1]) / len(legend.keys() + 1)"
   ]
  },
  {
   "cell_type": "code",
   "execution_count": null,
   "metadata": {},
   "outputs": [],
   "source": [
    "labels.shape"
   ]
  },
  {
   "cell_type": "code",
   "execution_count": null,
   "metadata": {},
   "outputs": [],
   "source": [
    "px.imshow(labels[::4, ::4])"
   ]
  },
  {
   "cell_type": "code",
   "execution_count": null,
   "metadata": {},
   "outputs": [],
   "source": [
    "mean = (X + 1).mean(axis=(0, 1)).compute()"
   ]
  },
  {
   "cell_type": "code",
   "execution_count": null,
   "metadata": {},
   "outputs": [],
   "source": [
    "plot_spectra([mean])"
   ]
  },
  {
   "cell_type": "code",
   "execution_count": null,
   "metadata": {},
   "outputs": [],
   "source": [
    "intensities = X.sum(axis=2).compute()"
   ]
  },
  {
   "cell_type": "code",
   "execution_count": null,
   "metadata": {},
   "outputs": [],
   "source": [
    "px.imshow(intensities < 1e6)"
   ]
  },
  {
   "cell_type": "code",
   "execution_count": null,
   "metadata": {},
   "outputs": [],
   "source": [
    "intensities.shape"
   ]
  }
 ],
 "metadata": {
  "kernelspec": {
   "display_name": ".venv",
   "language": "python",
   "name": "python3"
  },
  "language_info": {
   "codemirror_mode": {
    "name": "ipython",
    "version": 3
   },
   "file_extension": ".py",
   "mimetype": "text/x-python",
   "name": "python",
   "nbconvert_exporter": "python",
   "pygments_lexer": "ipython3",
   "version": "3.10.11"
  },
  "orig_nbformat": 4
 },
 "nbformat": 4,
 "nbformat_minor": 2
}
