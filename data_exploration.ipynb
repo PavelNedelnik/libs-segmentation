{
 "cells": [
  {
   "cell_type": "code",
   "execution_count": 1,
   "metadata": {},
   "outputs": [],
   "source": [
    "import h5py\n",
    "import dask.array as da\n",
    "from src.load_scripts import load_h5_dataset\n",
    "from pathlib import Path\n",
    "\n",
    "path = Path('data/Marsikov')"
   ]
  },
  {
   "cell_type": "code",
   "execution_count": null,
   "metadata": {},
   "outputs": [],
   "source": [
    "def load_h5_dataset(dataset_path: Path):\n",
    "    for file_path in dataset_path.glob('**/*.h5'):\n",
    "        try:\n",
    "            f = h5py.File(file_path, \"r\")\n",
    "            f = f[list(f.keys())[0]]\n",
    "            f = f[list(f.keys())[0]]\n",
    "            f = f['libs']\n",
    "            print('    Loading dimensions...', end='', flush=True)\n",
    "            dim = [max(f['metadata']['X']) + 1, max(f['metadata']['Y']) + 1]\n",
    "            print(' Done!', flush=True)\n",
    "\n",
    "            print('    Loading spectra...', end='', flush=True)\n",
    "            X = da.from_array(f['data'])\n",
    "            print(' Done!', flush=True)\n",
    "\n",
    "            print('    Loading wavelengths...', end='', flush=True)\n",
    "            wavelengths = da.from_array(f['calibration'])\n",
    "            print(' Done!', flush=True)\n",
    "\n",
    "            print('    Reshaping spectra...', end='', flush=True)\n",
    "            X = da.reshape(X, dim + [-1])\n",
    "            X[::2, :] = X[::2, ::-1]\n",
    "            print(' Done!', flush=True)\n",
    "\n",
    "            print('    Loading true labels...', end='', flush=True)\n",
    "            y = None  # TODO\n",
    "            print(' Done!', flush=True)\n",
    "\n",
    "            return X, y, wavelengths, dim\n",
    "        except Exception as e:\n",
    "            print('\\n[WARNING] Failed to load file {} with error message: {}. Skipping!'.format(file_path, e), flush=True)\n",
    "            continue\n",
    "    raise RuntimeError('Failed to load! No valid file found!')"
   ]
  },
  {
   "cell_type": "code",
   "execution_count": 2,
   "metadata": {},
   "outputs": [
    {
     "name": "stdout",
     "output_type": "stream",
     "text": [
      "    Loading dimensions... Done!\n",
      "    Loading spectra..."
     ]
    }
   ],
   "source": [
    "load_h5_dataset(path)"
   ]
  }
 ],
 "metadata": {
  "kernelspec": {
   "display_name": ".venv",
   "language": "python",
   "name": "python3"
  },
  "language_info": {
   "codemirror_mode": {
    "name": "ipython",
    "version": 3
   },
   "file_extension": ".py",
   "mimetype": "text/x-python",
   "name": "python",
   "nbconvert_exporter": "python",
   "pygments_lexer": "ipython3",
   "version": "3.10.11"
  },
  "orig_nbformat": 4
 },
 "nbformat": 4,
 "nbformat_minor": 2
}
